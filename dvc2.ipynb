{
  "nbformat": 4,
  "nbformat_minor": 0,
  "metadata": {
    "colab": {
      "name": "dvc2.ipynb",
      "provenance": [],
      "authorship_tag": "ABX9TyNySn8d4BKm2vy0E6dZoAqw",
      "include_colab_link": true
    },
    "kernelspec": {
      "name": "python3",
      "display_name": "Python 3"
    },
    "language_info": {
      "name": "python"
    }
  },
  "cells": [
    {
      "cell_type": "markdown",
      "metadata": {
        "id": "view-in-github",
        "colab_type": "text"
      },
      "source": [
        "<a href=\"https://colab.research.google.com/github/narcisoperez/dvc1/blob/main/dvc2.ipynb\" target=\"_parent\"><img src=\"https://colab.research.google.com/assets/colab-badge.svg\" alt=\"Open In Colab\"/></a>"
      ]
    },
    {
      "cell_type": "code",
      "metadata": {
        "colab": {
          "base_uri": "https://localhost:8080/"
        },
        "id": "36YNzkLjyUqA",
        "outputId": "28890edb-aafe-45e3-a0cb-b236369ab5fe"
      },
      "source": [
        "!ls"
      ],
      "execution_count": null,
      "outputs": [
        {
          "output_type": "stream",
          "name": "stdout",
          "text": [
            "data  README.md\n"
          ]
        }
      ]
    },
    {
      "cell_type": "code",
      "metadata": {
        "id": "5vD6bwGkRYFa"
      },
      "source": [
        ""
      ],
      "execution_count": null,
      "outputs": []
    },
    {
      "cell_type": "code",
      "metadata": {
        "id": "IHcCQGouRZ0v"
      },
      "source": [
        ""
      ],
      "execution_count": null,
      "outputs": []
    },
    {
      "cell_type": "code",
      "metadata": {
        "id": "zXVs7tz1BefQ"
      },
      "source": [
        "!mkdir data1"
      ],
      "execution_count": null,
      "outputs": []
    },
    {
      "cell_type": "code",
      "metadata": {
        "id": "9dW4FQfxBepm"
      },
      "source": [
        "import os\n",
        "os.chdir(\"data1\")"
      ],
      "execution_count": null,
      "outputs": []
    },
    {
      "cell_type": "code",
      "metadata": {
        "colab": {
          "base_uri": "https://localhost:8080/",
          "height": 1000
        },
        "id": "OH5wmRM5BfHu",
        "outputId": "390e30b9-29bf-4110-cd57-d4d4f278b05e"
      },
      "source": [
        "pip install dvc"
      ],
      "execution_count": null,
      "outputs": [
        {
          "output_type": "stream",
          "name": "stdout",
          "text": [
            "Collecting dvc\n",
            "  Downloading dvc-2.8.1-py3-none-any.whl (386 kB)\n",
            "\u001b[?25l\r\u001b[K     |▉                               | 10 kB 24.2 MB/s eta 0:00:01\r\u001b[K     |█▊                              | 20 kB 28.5 MB/s eta 0:00:01\r\u001b[K     |██▌                             | 30 kB 12.5 MB/s eta 0:00:01\r\u001b[K     |███▍                            | 40 kB 9.4 MB/s eta 0:00:01\r\u001b[K     |████▎                           | 51 kB 5.0 MB/s eta 0:00:01\r\u001b[K     |█████                           | 61 kB 5.4 MB/s eta 0:00:01\r\u001b[K     |██████                          | 71 kB 5.4 MB/s eta 0:00:01\r\u001b[K     |██████▉                         | 81 kB 6.0 MB/s eta 0:00:01\r\u001b[K     |███████▋                        | 92 kB 4.7 MB/s eta 0:00:01\r\u001b[K     |████████▌                       | 102 kB 5.1 MB/s eta 0:00:01\r\u001b[K     |█████████▎                      | 112 kB 5.1 MB/s eta 0:00:01\r\u001b[K     |██████████▏                     | 122 kB 5.1 MB/s eta 0:00:01\r\u001b[K     |███████████                     | 133 kB 5.1 MB/s eta 0:00:01\r\u001b[K     |███████████▉                    | 143 kB 5.1 MB/s eta 0:00:01\r\u001b[K     |████████████▊                   | 153 kB 5.1 MB/s eta 0:00:01\r\u001b[K     |█████████████▋                  | 163 kB 5.1 MB/s eta 0:00:01\r\u001b[K     |██████████████▍                 | 174 kB 5.1 MB/s eta 0:00:01\r\u001b[K     |███████████████▎                | 184 kB 5.1 MB/s eta 0:00:01\r\u001b[K     |████████████████▏               | 194 kB 5.1 MB/s eta 0:00:01\r\u001b[K     |█████████████████               | 204 kB 5.1 MB/s eta 0:00:01\r\u001b[K     |█████████████████▉              | 215 kB 5.1 MB/s eta 0:00:01\r\u001b[K     |██████████████████▋             | 225 kB 5.1 MB/s eta 0:00:01\r\u001b[K     |███████████████████▌            | 235 kB 5.1 MB/s eta 0:00:01\r\u001b[K     |████████████████████▍           | 245 kB 5.1 MB/s eta 0:00:01\r\u001b[K     |█████████████████████▏          | 256 kB 5.1 MB/s eta 0:00:01\r\u001b[K     |██████████████████████          | 266 kB 5.1 MB/s eta 0:00:01\r\u001b[K     |███████████████████████         | 276 kB 5.1 MB/s eta 0:00:01\r\u001b[K     |███████████████████████▊        | 286 kB 5.1 MB/s eta 0:00:01\r\u001b[K     |████████████████████████▋       | 296 kB 5.1 MB/s eta 0:00:01\r\u001b[K     |█████████████████████████▌      | 307 kB 5.1 MB/s eta 0:00:01\r\u001b[K     |██████████████████████████▎     | 317 kB 5.1 MB/s eta 0:00:01\r\u001b[K     |███████████████████████████▏    | 327 kB 5.1 MB/s eta 0:00:01\r\u001b[K     |████████████████████████████    | 337 kB 5.1 MB/s eta 0:00:01\r\u001b[K     |████████████████████████████▉   | 348 kB 5.1 MB/s eta 0:00:01\r\u001b[K     |█████████████████████████████▊  | 358 kB 5.1 MB/s eta 0:00:01\r\u001b[K     |██████████████████████████████▌ | 368 kB 5.1 MB/s eta 0:00:01\r\u001b[K     |███████████████████████████████▍| 378 kB 5.1 MB/s eta 0:00:01\r\u001b[K     |████████████████████████████████| 386 kB 5.1 MB/s \n",
            "\u001b[?25hCollecting dictdiffer>=0.8.1\n",
            "  Downloading dictdiffer-0.9.0-py2.py3-none-any.whl (16 kB)\n",
            "Collecting aiohttp-retry>=2.4.5\n",
            "  Downloading aiohttp_retry-2.4.6-py3-none-any.whl (7.7 kB)\n",
            "Requirement already satisfied: pyasn1>=0.4.1 in /usr/local/lib/python3.7/dist-packages (from dvc) (0.4.8)\n",
            "Requirement already satisfied: toml>=0.10.1 in /usr/local/lib/python3.7/dist-packages (from dvc) (0.10.2)\n",
            "Requirement already satisfied: pydot>=1.2.4 in /usr/local/lib/python3.7/dist-packages (from dvc) (1.3.0)\n",
            "Collecting pygtrie>=2.3.2\n",
            "  Downloading pygtrie-2.4.2.tar.gz (35 kB)\n",
            "Collecting shtab<2,>=1.3.4\n",
            "  Downloading shtab-1.4.2-py2.py3-none-any.whl (13 kB)\n",
            "Collecting gitpython>3\n",
            "  Downloading GitPython-3.1.24-py3-none-any.whl (180 kB)\n",
            "\u001b[K     |████████████████████████████████| 180 kB 39.0 MB/s \n",
            "\u001b[?25hCollecting psutil>=5.8.0\n",
            "  Downloading psutil-5.8.0-cp37-cp37m-manylinux2010_x86_64.whl (296 kB)\n",
            "\u001b[K     |████████████████████████████████| 296 kB 51.8 MB/s \n",
            "\u001b[?25hCollecting rich>=10.9.0\n",
            "  Downloading rich-10.12.0-py3-none-any.whl (212 kB)\n",
            "\u001b[K     |████████████████████████████████| 212 kB 54.0 MB/s \n",
            "\u001b[?25hRequirement already satisfied: networkx>=2.5 in /usr/local/lib/python3.7/dist-packages (from dvc) (2.6.3)\n",
            "Collecting funcy>=1.14\n",
            "  Downloading funcy-1.16-py2.py3-none-any.whl (32 kB)\n",
            "Requirement already satisfied: importlib-metadata>=1.4 in /usr/local/lib/python3.7/dist-packages (from dvc) (4.8.1)\n",
            "Collecting colorama>=0.3.9\n",
            "  Downloading colorama-0.4.4-py2.py3-none-any.whl (16 kB)\n",
            "Collecting flufl.lock<4,>=3.2\n",
            "  Downloading flufl.lock-3.2.tar.gz (19 kB)\n",
            "Collecting diskcache>=5.2.1\n",
            "  Downloading diskcache-5.2.1-py3-none-any.whl (44 kB)\n",
            "\u001b[K     |████████████████████████████████| 44 kB 2.6 MB/s \n",
            "\u001b[?25hCollecting shortuuid>=0.5.0\n",
            "  Downloading shortuuid-1.0.1-py3-none-any.whl (7.5 kB)\n",
            "Requirement already satisfied: tqdm<5,>=4.45.0 in /usr/local/lib/python3.7/dist-packages (from dvc) (4.62.3)\n",
            "Collecting dulwich>=0.20.23\n",
            "  Downloading dulwich-0.20.25-cp37-cp37m-manylinux_2_5_x86_64.manylinux1_x86_64.manylinux_2_12_x86_64.manylinux2010_x86_64.whl (530 kB)\n",
            "\u001b[K     |████████████████████████████████| 530 kB 56.9 MB/s \n",
            "\u001b[?25hCollecting distro>=1.3.0\n",
            "  Downloading distro-1.6.0-py2.py3-none-any.whl (19 kB)\n",
            "Collecting fsspec[http]>=2021.10.0\n",
            "  Downloading fsspec-2021.10.1-py3-none-any.whl (125 kB)\n",
            "\u001b[K     |████████████████████████████████| 125 kB 71.0 MB/s \n",
            "\u001b[?25hCollecting grandalf==0.6\n",
            "  Downloading grandalf-0.6-py3-none-any.whl (31 kB)\n",
            "Collecting dpath<3,>=2.0.2\n",
            "  Downloading dpath-2.0.5-py3-none-any.whl (15 kB)\n",
            "Collecting python-benedict>=0.24.2\n",
            "  Downloading python_benedict-0.24.3-py3-none-any.whl (41 kB)\n",
            "\u001b[K     |████████████████████████████████| 41 kB 35 kB/s \n",
            "\u001b[?25hRequirement already satisfied: packaging>=19.0 in /usr/local/lib/python3.7/dist-packages (from dvc) (21.0)\n",
            "Collecting pathspec<0.9.0,>=0.6.0\n",
            "  Downloading pathspec-0.8.1-py2.py3-none-any.whl (28 kB)\n",
            "Collecting voluptuous>=0.11.7\n",
            "  Downloading voluptuous-0.12.2.tar.gz (48 kB)\n",
            "\u001b[K     |████████████████████████████████| 48 kB 5.0 MB/s \n",
            "\u001b[?25hCollecting flatten-dict<1,>=0.4.1\n",
            "  Downloading flatten_dict-0.4.2-py2.py3-none-any.whl (9.7 kB)\n",
            "Collecting ply>=3.9\n",
            "  Downloading ply-3.11-py2.py3-none-any.whl (49 kB)\n",
            "\u001b[K     |████████████████████████████████| 49 kB 5.2 MB/s \n",
            "\u001b[?25hRequirement already satisfied: setuptools>=34.0.0 in /usr/local/lib/python3.7/dist-packages (from dvc) (57.4.0)\n",
            "Requirement already satisfied: tabulate>=0.8.7 in /usr/local/lib/python3.7/dist-packages (from dvc) (0.8.9)\n",
            "Requirement already satisfied: requests>=2.22.0 in /usr/local/lib/python3.7/dist-packages (from dvc) (2.23.0)\n",
            "Collecting ruamel.yaml>=0.17.11\n",
            "  Downloading ruamel.yaml-0.17.16-py3-none-any.whl (109 kB)\n",
            "\u001b[K     |████████████████████████████████| 109 kB 50.8 MB/s \n",
            "\u001b[?25hRequirement already satisfied: appdirs>=1.4.3 in /usr/local/lib/python3.7/dist-packages (from dvc) (1.4.4)\n",
            "Requirement already satisfied: pyparsing==2.4.7 in /usr/local/lib/python3.7/dist-packages (from dvc) (2.4.7)\n",
            "Requirement already satisfied: typing-extensions>=3.7.4 in /usr/local/lib/python3.7/dist-packages (from dvc) (3.7.4.3)\n",
            "Collecting zc.lockfile>=1.2.1\n",
            "  Downloading zc.lockfile-2.0-py2.py3-none-any.whl (9.7 kB)\n",
            "Collecting nanotime>=0.5.2\n",
            "  Downloading nanotime-0.5.2.tar.gz (3.2 kB)\n",
            "Collecting configobj>=5.0.6\n",
            "  Downloading configobj-5.0.6.tar.gz (33 kB)\n",
            "Collecting pygit2>=1.5.0\n",
            "  Downloading pygit2-1.7.0-cp37-cp37m-manylinux_2_17_x86_64.manylinux2014_x86_64.whl (4.6 MB)\n",
            "\u001b[K     |████████████████████████████████| 4.6 MB 33.0 MB/s \n",
            "\u001b[?25hRequirement already satisfied: future in /usr/local/lib/python3.7/dist-packages (from grandalf==0.6->dvc) (0.16.0)\n",
            "Collecting aiohttp\n",
            "  Downloading aiohttp-3.7.4.post0-cp37-cp37m-manylinux2014_x86_64.whl (1.3 MB)\n",
            "\u001b[K     |████████████████████████████████| 1.3 MB 52.1 MB/s \n",
            "\u001b[?25hRequirement already satisfied: six in /usr/local/lib/python3.7/dist-packages (from configobj>=5.0.6->dvc) (1.15.0)\n",
            "Requirement already satisfied: certifi in /usr/local/lib/python3.7/dist-packages (from dulwich>=0.20.23->dvc) (2021.5.30)\n",
            "Requirement already satisfied: urllib3>=1.24.1 in /usr/local/lib/python3.7/dist-packages (from dulwich>=0.20.23->dvc) (1.24.3)\n",
            "Collecting atpublic\n",
            "  Downloading atpublic-2.3.tar.gz (16 kB)\n",
            "Collecting gitdb<5,>=4.0.1\n",
            "  Downloading gitdb-4.0.7-py3-none-any.whl (63 kB)\n",
            "\u001b[K     |████████████████████████████████| 63 kB 1.5 MB/s \n",
            "\u001b[?25hCollecting smmap<5,>=3.0.1\n",
            "  Downloading smmap-4.0.0-py2.py3-none-any.whl (24 kB)\n",
            "Requirement already satisfied: zipp>=0.5 in /usr/local/lib/python3.7/dist-packages (from importlib-metadata>=1.4->dvc) (3.6.0)\n",
            "Requirement already satisfied: cached-property in /usr/local/lib/python3.7/dist-packages (from pygit2>=1.5.0->dvc) (1.5.2)\n",
            "Requirement already satisfied: cffi>=1.4.0 in /usr/local/lib/python3.7/dist-packages (from pygit2>=1.5.0->dvc) (1.14.6)\n",
            "Requirement already satisfied: pycparser in /usr/local/lib/python3.7/dist-packages (from cffi>=1.4.0->pygit2>=1.5.0->dvc) (2.20)\n",
            "Collecting python-fsutil\n",
            "  Downloading python_fsutil-0.5.0-py3-none-any.whl (11 kB)\n",
            "Collecting mailchecker\n",
            "  Downloading mailchecker-4.0.13.tar.gz (201 kB)\n",
            "\u001b[K     |████████████████████████████████| 201 kB 72.7 MB/s \n",
            "\u001b[?25hRequirement already satisfied: pyyaml in /usr/local/lib/python3.7/dist-packages (from python-benedict>=0.24.2->dvc) (3.13)\n",
            "Collecting xmltodict\n",
            "  Downloading xmltodict-0.12.0-py2.py3-none-any.whl (9.2 kB)\n",
            "Requirement already satisfied: python-dateutil in /usr/local/lib/python3.7/dist-packages (from python-benedict>=0.24.2->dvc) (2.8.2)\n",
            "Collecting phonenumbers\n",
            "  Downloading phonenumbers-8.12.35-py2.py3-none-any.whl (2.6 MB)\n",
            "\u001b[K     |████████████████████████████████| 2.6 MB 28.6 MB/s \n",
            "\u001b[?25hRequirement already satisfied: python-slugify in /usr/local/lib/python3.7/dist-packages (from python-benedict>=0.24.2->dvc) (5.0.2)\n",
            "Collecting ftfy\n",
            "  Downloading ftfy-6.0.3.tar.gz (64 kB)\n",
            "\u001b[K     |████████████████████████████████| 64 kB 2.4 MB/s \n",
            "\u001b[?25hRequirement already satisfied: chardet<4,>=3.0.2 in /usr/local/lib/python3.7/dist-packages (from requests>=2.22.0->dvc) (3.0.4)\n",
            "Requirement already satisfied: idna<3,>=2.5 in /usr/local/lib/python3.7/dist-packages (from requests>=2.22.0->dvc) (2.10)\n",
            "Collecting commonmark<0.10.0,>=0.9.0\n",
            "  Downloading commonmark-0.9.1-py2.py3-none-any.whl (51 kB)\n",
            "\u001b[K     |████████████████████████████████| 51 kB 6.2 MB/s \n",
            "\u001b[?25hRequirement already satisfied: pygments<3.0.0,>=2.6.0 in /usr/local/lib/python3.7/dist-packages (from rich>=10.9.0->dvc) (2.6.1)\n",
            "Collecting ruamel.yaml.clib>=0.1.2\n",
            "  Downloading ruamel.yaml.clib-0.2.6-cp37-cp37m-manylinux1_x86_64.whl (546 kB)\n",
            "\u001b[K     |████████████████████████████████| 546 kB 50.6 MB/s \n",
            "\u001b[?25hRequirement already satisfied: attrs>=17.3.0 in /usr/local/lib/python3.7/dist-packages (from aiohttp->aiohttp-retry>=2.4.5->dvc) (21.2.0)\n",
            "Collecting yarl<2.0,>=1.0\n",
            "  Downloading yarl-1.7.0-cp37-cp37m-manylinux_2_5_x86_64.manylinux1_x86_64.manylinux_2_12_x86_64.manylinux2010_x86_64.whl (271 kB)\n",
            "\u001b[K     |████████████████████████████████| 271 kB 60.6 MB/s \n",
            "\u001b[?25hCollecting async-timeout<4.0,>=3.0\n",
            "  Downloading async_timeout-3.0.1-py3-none-any.whl (8.2 kB)\n",
            "Collecting multidict<7.0,>=4.5\n",
            "  Downloading multidict-5.2.0-cp37-cp37m-manylinux_2_5_x86_64.manylinux1_x86_64.manylinux_2_12_x86_64.manylinux2010_x86_64.whl (160 kB)\n",
            "\u001b[K     |████████████████████████████████| 160 kB 57.7 MB/s \n",
            "\u001b[?25hRequirement already satisfied: wcwidth in /usr/local/lib/python3.7/dist-packages (from ftfy->python-benedict>=0.24.2->dvc) (0.2.5)\n",
            "Requirement already satisfied: text-unidecode>=1.3 in /usr/local/lib/python3.7/dist-packages (from python-slugify->python-benedict>=0.24.2->dvc) (1.3)\n",
            "Building wheels for collected packages: configobj, flufl.lock, nanotime, pygtrie, voluptuous, atpublic, ftfy, mailchecker\n",
            "  Building wheel for configobj (setup.py) ... \u001b[?25l\u001b[?25hdone\n",
            "  Created wheel for configobj: filename=configobj-5.0.6-py3-none-any.whl size=34546 sha256=91a2dc145df9104f263fae3261a426d59c1cba8f4258cc90659eb3a8933e6450\n",
            "  Stored in directory: /root/.cache/pip/wheels/0d/c4/19/13d74440f2a571841db6b6e0a273694327498884dafb9cf978\n",
            "  Building wheel for flufl.lock (setup.py) ... \u001b[?25l\u001b[?25hdone\n",
            "  Created wheel for flufl.lock: filename=flufl.lock-3.2-py3-none-any.whl size=19929 sha256=ea3a21cb62cdecf8b5411c7ece362ce2395db3103e1e339c19e4faa4b18a341b\n",
            "  Stored in directory: /root/.cache/pip/wheels/49/68/a0/8e7cb7bbf4990fc10b5a082aa0eb3ac66787ca11e8eca445b2\n",
            "  Building wheel for nanotime (setup.py) ... \u001b[?25l\u001b[?25hdone\n",
            "  Created wheel for nanotime: filename=nanotime-0.5.2-py3-none-any.whl size=2440 sha256=e4400c43050e148fa9e53c7eaca6db98b3f98acb32556bc77736f6ab00c236e0\n",
            "  Stored in directory: /root/.cache/pip/wheels/b8/92/aa/456d462c908b4e210c3928f778d28f94049fc9e47af8b191c9\n",
            "  Building wheel for pygtrie (setup.py) ... \u001b[?25l\u001b[?25hdone\n",
            "  Created wheel for pygtrie: filename=pygtrie-2.4.2-py3-none-any.whl size=19062 sha256=c7c88bf55cd65047f72f2bae498822405376516eaca401e8004daffad545b59f\n",
            "  Stored in directory: /root/.cache/pip/wheels/d3/f8/ba/1d828b1603ea422686eb694253a43cb3a5901ea4696c1e0603\n",
            "  Building wheel for voluptuous (setup.py) ... \u001b[?25l\u001b[?25hdone\n",
            "  Created wheel for voluptuous: filename=voluptuous-0.12.2-py3-none-any.whl size=29562 sha256=ae8d57033e830cbc57e34b0edadef9b1e16db79e1bfd2eeaca8617a03bc96ff3\n",
            "  Stored in directory: /root/.cache/pip/wheels/ce/40/e9/5aba7699054584e118b04cc18d4d8f1f15f27af4a0d65ef4b4\n",
            "  Building wheel for atpublic (setup.py) ... \u001b[?25l\u001b[?25hdone\n",
            "  Created wheel for atpublic: filename=atpublic-2.3-py3-none-any.whl size=5033 sha256=6ce1f6a34b506e65dd8ccb14d7cbf63a2e49ad073a067c869248a1e79317d691\n",
            "  Stored in directory: /root/.cache/pip/wheels/46/d9/0f/54be2ecb4bcb1612f987f0b6482d88fa7f3e43d3946f36a32a\n",
            "  Building wheel for ftfy (setup.py) ... \u001b[?25l\u001b[?25hdone\n",
            "  Created wheel for ftfy: filename=ftfy-6.0.3-py3-none-any.whl size=41933 sha256=ff42d58b042b263c9afecac9fdfc1c2e1852c4002c02276ae6c308867aa6bb9d\n",
            "  Stored in directory: /root/.cache/pip/wheels/19/f5/38/273eb3b5e76dfd850619312f693716ac4518b498f5ffb6f56d\n",
            "  Building wheel for mailchecker (setup.py) ... \u001b[?25l\u001b[?25hdone\n",
            "  Created wheel for mailchecker: filename=mailchecker-4.0.13-py3-none-any.whl size=201717 sha256=12a6026213fc1ec363aba1582e567475f7581ca4df5c381d05296a23e9e79431\n",
            "  Stored in directory: /root/.cache/pip/wheels/14/15/f6/33f8239094610c7f6ed1c65ed34b770bc6cbe80f2778beed71\n",
            "Successfully built configobj flufl.lock nanotime pygtrie voluptuous atpublic ftfy mailchecker\n",
            "Installing collected packages: multidict, yarl, smmap, async-timeout, xmltodict, ruamel.yaml.clib, python-fsutil, phonenumbers, mailchecker, gitdb, ftfy, fsspec, commonmark, colorama, atpublic, aiohttp, zc.lockfile, voluptuous, shtab, shortuuid, ruamel.yaml, rich, python-benedict, pygtrie, pygit2, psutil, ply, pathspec, nanotime, grandalf, gitpython, funcy, flufl.lock, flatten-dict, dulwich, dpath, distro, diskcache, dictdiffer, configobj, aiohttp-retry, dvc\n",
            "  Attempting uninstall: psutil\n",
            "    Found existing installation: psutil 5.4.8\n",
            "    Uninstalling psutil-5.4.8:\n",
            "      Successfully uninstalled psutil-5.4.8\n",
            "Successfully installed aiohttp-3.7.4.post0 aiohttp-retry-2.4.6 async-timeout-3.0.1 atpublic-2.3 colorama-0.4.4 commonmark-0.9.1 configobj-5.0.6 dictdiffer-0.9.0 diskcache-5.2.1 distro-1.6.0 dpath-2.0.5 dulwich-0.20.25 dvc-2.8.1 flatten-dict-0.4.2 flufl.lock-3.2 fsspec-2021.10.1 ftfy-6.0.3 funcy-1.16 gitdb-4.0.7 gitpython-3.1.24 grandalf-0.6 mailchecker-4.0.13 multidict-5.2.0 nanotime-0.5.2 pathspec-0.8.1 phonenumbers-8.12.35 ply-3.11 psutil-5.8.0 pygit2-1.7.0 pygtrie-2.4.2 python-benedict-0.24.3 python-fsutil-0.5.0 rich-10.12.0 ruamel.yaml-0.17.16 ruamel.yaml.clib-0.2.6 shortuuid-1.0.1 shtab-1.4.2 smmap-4.0.0 voluptuous-0.12.2 xmltodict-0.12.0 yarl-1.7.0 zc.lockfile-2.0\n"
          ]
        },
        {
          "output_type": "display_data",
          "data": {
            "application/vnd.colab-display-data+json": {
              "pip_warning": {
                "packages": [
                  "psutil"
                ]
              }
            }
          },
          "metadata": {}
        }
      ]
    },
    {
      "cell_type": "code",
      "metadata": {
        "colab": {
          "base_uri": "https://localhost:8080/"
        },
        "id": "JfV9scJEEMFw",
        "outputId": "91d7989c-188e-469a-e88a-9eeb628d07f6"
      },
      "source": [
        "!git init"
      ],
      "execution_count": null,
      "outputs": [
        {
          "output_type": "stream",
          "name": "stdout",
          "text": [
            "Initialized empty Git repository in /content/data1/.git/\n"
          ]
        }
      ]
    },
    {
      "cell_type": "code",
      "metadata": {
        "colab": {
          "base_uri": "https://localhost:8080/"
        },
        "id": "-2nnMUnAFFrv",
        "outputId": "5798d242-09d5-419d-bcd4-5d2f4b05ce2a"
      },
      "source": [
        "!dvc init"
      ],
      "execution_count": null,
      "outputs": [
        {
          "output_type": "stream",
          "name": "stdout",
          "text": [
            "Initialized DVC repository.\n",
            "\n",
            "You can now commit the changes to git.\n",
            "\n",
            "\u001b[31m+---------------------------------------------------------------------+\n",
            "\u001b[0m\u001b[31m|\u001b[0m                                                                     \u001b[31m|\u001b[0m\n",
            "\u001b[31m|\u001b[0m        DVC has enabled anonymous aggregate usage analytics.         \u001b[31m|\u001b[0m\n",
            "\u001b[31m|\u001b[0m     Read the analytics documentation (and how to opt-out) here:     \u001b[31m|\u001b[0m\n",
            "\u001b[31m|\u001b[0m             <\u001b[36mhttps://dvc.org/doc/user-guide/analytics\u001b[39m>              \u001b[31m|\u001b[0m\n",
            "\u001b[31m|\u001b[0m                                                                     \u001b[31m|\u001b[0m\n",
            "\u001b[31m+---------------------------------------------------------------------+\n",
            "\u001b[0m\n",
            "\u001b[33mWhat's next?\u001b[39m\n",
            "\u001b[33m------------\u001b[39m\n",
            "- Check out the documentation: <\u001b[36mhttps://dvc.org/doc\u001b[39m>\n",
            "- Get help and share ideas: <\u001b[36mhttps://dvc.org/chat\u001b[39m>\n",
            "- Star us on GitHub: <\u001b[36mhttps://github.com/iterative/dvc\u001b[39m>\n",
            "\u001b[0m"
          ]
        }
      ]
    },
    {
      "cell_type": "code",
      "metadata": {
        "colab": {
          "base_uri": "https://localhost:8080/"
        },
        "id": "7audD2e_FLYR",
        "outputId": "d1aa9e40-29e7-4bb4-e160-ca80c4c4b446"
      },
      "source": [
        "!git commit -m \"Initialize DVC\""
      ],
      "execution_count": null,
      "outputs": [
        {
          "output_type": "stream",
          "name": "stdout",
          "text": [
            "\n",
            "*** Please tell me who you are.\n",
            "\n",
            "Run\n",
            "\n",
            "  git config --global user.email \"you@example.com\"\n",
            "  git config --global user.name \"Your Name\"\n",
            "\n",
            "to set your account's default identity.\n",
            "Omit --global to set the identity only in this repository.\n",
            "\n",
            "fatal: unable to auto-detect email address (got 'root@6f75b39b589d.(none)')\n"
          ]
        }
      ]
    },
    {
      "cell_type": "code",
      "metadata": {
        "colab": {
          "base_uri": "https://localhost:8080/"
        },
        "id": "OWyT8zPJFQOo",
        "outputId": "095bbd2b-e29e-4709-b0ec-4be774ddf01b"
      },
      "source": [
        "!dvc get https://github.com/iterative/dataset-registry \\\n",
        "          get-started/data.xml -o data/data.xml\n",
        "          "
      ],
      "execution_count": null,
      "outputs": [
        {
          "output_type": "stream",
          "name": "stdout",
          "text": [
            "\u001b[0m"
          ]
        }
      ]
    },
    {
      "cell_type": "code",
      "metadata": {
        "colab": {
          "base_uri": "https://localhost:8080/"
        },
        "id": "uxwsq0swFfn4",
        "outputId": "d3272726-18fe-4358-aede-7892f27b414c"
      },
      "source": [
        "!dvc add data/data.xml"
      ],
      "execution_count": null,
      "outputs": [
        {
          "output_type": "stream",
          "name": "stdout",
          "text": [
            "\u001b[?25l\u001b[32m⠋\u001b[0m Checking graph\n",
            "Adding...:   0% 0/1 [00:00<?, ?file/s{'info': ''}]\n",
            "!\u001b[A\n",
            "  0%|          |                                   0.00/? [00:00<?,        ?B/s]\u001b[A\n",
            "                                                                                \u001b[A\n",
            "Querying cache in .dvc/cache:   0% 0.00/1.00 [00:00<?, ?file/s]\u001b[A\n",
            "Querying cache in .dvc/cache:   0% 0.00/1.00 [00:00<?, ?file/s{'info': ''}]\u001b[A\n",
            "                                                                           \u001b[A\n",
            "Transferring:   0% 0/1 [00:00<?, ?file/s]\u001b[A\n",
            "Transferring:   0% 0/1 [00:00<?, ?file/s{'info': ''}]\u001b[A\n",
            "                                                     \u001b[A\n",
            ".kjWhuktjarCgN5FXtqz7bU.tmp:   0% 0.00/37.9M [00:00<?, ?it/s]\u001b[A\n",
            ".kjWhuktjarCgN5FXtqz7bU.tmp:   0% 0.00/37.9M [00:00<?, ?it/s{'info': ''}]\u001b[A\n",
            "Adding...: 100% 1/1 [00:00<00:00,  4.91file/s{'info': ''}]\n",
            "\n",
            "To track the changes with git, run:\n",
            "\n",
            "\tgit add data/data.xml.dvc data/.gitignore\n",
            "\u001b[0m"
          ]
        }
      ]
    },
    {
      "cell_type": "code",
      "metadata": {
        "id": "S-m9ClpwFl3S"
      },
      "source": [
        "!git add data/data.xml.dvc data/.gitignore"
      ],
      "execution_count": null,
      "outputs": []
    },
    {
      "cell_type": "code",
      "metadata": {
        "colab": {
          "base_uri": "https://localhost:8080/"
        },
        "id": "YY-A6QOyF0wc",
        "outputId": "e9e95d1f-575b-4866-945a-ea555b7b17c7"
      },
      "source": [
        "!git commit -m \"Add raw data\""
      ],
      "execution_count": null,
      "outputs": [
        {
          "output_type": "stream",
          "name": "stdout",
          "text": [
            "\n",
            "*** Please tell me who you are.\n",
            "\n",
            "Run\n",
            "\n",
            "  git config --global user.email \"you@example.com\"\n",
            "  git config --global user.name \"Your Name\"\n",
            "\n",
            "to set your account's default identity.\n",
            "Omit --global to set the identity only in this repository.\n",
            "\n",
            "fatal: unable to auto-detect email address (got 'root@6f75b39b589d.(none)')\n"
          ]
        }
      ]
    },
    {
      "cell_type": "code",
      "metadata": {
        "id": "C7e1jPTfIIL_"
      },
      "source": [
        "!git config --global user.name \"Narciso Perez\""
      ],
      "execution_count": null,
      "outputs": []
    },
    {
      "cell_type": "code",
      "metadata": {
        "id": "EW8TR9mbF9hg"
      },
      "source": [
        "!git config --global user.email \"narcisoperez@gmail.com\""
      ],
      "execution_count": null,
      "outputs": []
    },
    {
      "cell_type": "code",
      "metadata": {
        "id": "RF-VrPb0IOSy"
      },
      "source": [
        "!git remote add origin https://github.com/narcisoperez/dvc2.git"
      ],
      "execution_count": null,
      "outputs": []
    },
    {
      "cell_type": "code",
      "metadata": {
        "id": "LwCQtZg7JpwR"
      },
      "source": [
        "!git branch"
      ],
      "execution_count": null,
      "outputs": []
    },
    {
      "cell_type": "code",
      "metadata": {
        "colab": {
          "base_uri": "https://localhost:8080/"
        },
        "id": "U8a0dcCaKpLV",
        "outputId": "b42890e2-32e1-45b0-b99e-ada70b90595e"
      },
      "source": [
        "!git status"
      ],
      "execution_count": null,
      "outputs": [
        {
          "output_type": "stream",
          "name": "stdout",
          "text": [
            "On branch master\n",
            "\n",
            "No commits yet\n",
            "\n",
            "Changes to be committed:\n",
            "  (use \"git rm --cached <file>...\" to unstage)\n",
            "\n",
            "\t\u001b[32mnew file:   .dvc/.gitignore\u001b[m\n",
            "\t\u001b[32mnew file:   .dvc/config\u001b[m\n",
            "\t\u001b[32mnew file:   .dvc/plots/confusion.json\u001b[m\n",
            "\t\u001b[32mnew file:   .dvc/plots/confusion_normalized.json\u001b[m\n",
            "\t\u001b[32mnew file:   .dvc/plots/default.json\u001b[m\n",
            "\t\u001b[32mnew file:   .dvc/plots/linear.json\u001b[m\n",
            "\t\u001b[32mnew file:   .dvc/plots/scatter.json\u001b[m\n",
            "\t\u001b[32mnew file:   .dvc/plots/smooth.json\u001b[m\n",
            "\t\u001b[32mnew file:   .dvcignore\u001b[m\n",
            "\t\u001b[32mnew file:   data/.gitignore\u001b[m\n",
            "\t\u001b[32mnew file:   data/data.xml.dvc\u001b[m\n",
            "\n"
          ]
        }
      ]
    },
    {
      "cell_type": "code",
      "metadata": {
        "colab": {
          "base_uri": "https://localhost:8080/"
        },
        "id": "vSTbX94XM0aD",
        "outputId": "03ee7c62-73c5-4f76-9781-9480e73e1b4c"
      },
      "source": [
        "!!git commit -m\"your commit\"\n"
      ],
      "execution_count": null,
      "outputs": [
        {
          "output_type": "execute_result",
          "data": {
            "text/plain": [
              "['[master (root-commit) 8029a3d] your commit',\n",
              " ' 11 files changed, 520 insertions(+)',\n",
              " ' create mode 100644 .dvc/.gitignore',\n",
              " ' create mode 100644 .dvc/config',\n",
              " ' create mode 100644 .dvc/plots/confusion.json',\n",
              " ' create mode 100644 .dvc/plots/confusion_normalized.json',\n",
              " ' create mode 100644 .dvc/plots/default.json',\n",
              " ' create mode 100644 .dvc/plots/linear.json',\n",
              " ' create mode 100644 .dvc/plots/scatter.json',\n",
              " ' create mode 100644 .dvc/plots/smooth.json',\n",
              " ' create mode 100644 .dvcignore',\n",
              " ' create mode 100644 data/.gitignore',\n",
              " ' create mode 100644 data/data.xml.dvc']"
            ]
          },
          "metadata": {},
          "execution_count": 45
        }
      ]
    },
    {
      "cell_type": "code",
      "metadata": {
        "id": "-M5a7akbNNSB"
      },
      "source": [
        "!git branch -M master"
      ],
      "execution_count": null,
      "outputs": []
    },
    {
      "cell_type": "code",
      "metadata": {
        "colab": {
          "base_uri": "https://localhost:8080/"
        },
        "id": "o8cPHcx-NRYo",
        "outputId": "fa5e70db-f3e9-4a45-d006-469ab4acb346"
      },
      "source": [
        "!git push -u origin master"
      ],
      "execution_count": null,
      "outputs": [
        {
          "output_type": "stream",
          "name": "stdout",
          "text": [
            "fatal: could not read Username for 'https://github.com': No such device or address\n"
          ]
        }
      ]
    },
    {
      "cell_type": "code",
      "metadata": {
        "colab": {
          "base_uri": "https://localhost:8080/"
        },
        "id": "AbB9U9ZzNzNR",
        "outputId": "2547a5b4-0eab-4d5b-9470-f4a667530512"
      },
      "source": [
        "!git remote -v"
      ],
      "execution_count": null,
      "outputs": [
        {
          "output_type": "stream",
          "name": "stdout",
          "text": [
            "origin\thttps://github.com/narcisoperez/dvc2.git (fetch)\n",
            "origin\thttps://github.com/narcisoperez/dvc2.git (push)\n"
          ]
        }
      ]
    },
    {
      "cell_type": "code",
      "metadata": {
        "id": "YlblCqjYOLkP"
      },
      "source": [
        ""
      ],
      "execution_count": null,
      "outputs": []
    },
    {
      "cell_type": "code",
      "metadata": {
        "id": "LDAOSNDaOL7g"
      },
      "source": [
        "!echo \"# dvc2\" >> README.md"
      ],
      "execution_count": null,
      "outputs": []
    },
    {
      "cell_type": "code",
      "metadata": {
        "colab": {
          "base_uri": "https://localhost:8080/"
        },
        "id": "H9jj_9Y4O766",
        "outputId": "db679609-9620-4a9f-b058-fa6dd6053eb7"
      },
      "source": [
        "!git init"
      ],
      "execution_count": null,
      "outputs": [
        {
          "output_type": "stream",
          "name": "stdout",
          "text": [
            "Initialized empty Git repository in /content/dvc2/.git/\n"
          ]
        }
      ]
    },
    {
      "cell_type": "code",
      "metadata": {
        "id": "DRVcy10YO_Tm"
      },
      "source": [
        "!git add README.md"
      ],
      "execution_count": null,
      "outputs": []
    },
    {
      "cell_type": "code",
      "metadata": {
        "colab": {
          "base_uri": "https://localhost:8080/"
        },
        "id": "6cP2ss56PC0b",
        "outputId": "b1b700bb-b89a-4779-8219-ca4e09f5115c"
      },
      "source": [
        "!git commit -m \"first commit\""
      ],
      "execution_count": null,
      "outputs": [
        {
          "output_type": "stream",
          "name": "stdout",
          "text": [
            "[master (root-commit) 713f6e6] first commit\n",
            " 1 file changed, 1 insertion(+)\n",
            " create mode 100644 README.md\n"
          ]
        }
      ]
    },
    {
      "cell_type": "code",
      "metadata": {
        "id": "2YL4x2a3QkaL"
      },
      "source": [
        ""
      ],
      "execution_count": null,
      "outputs": []
    },
    {
      "cell_type": "code",
      "metadata": {
        "id": "kqVWPg-oPGyG"
      },
      "source": [
        "!git branch -M main"
      ],
      "execution_count": null,
      "outputs": []
    },
    {
      "cell_type": "code",
      "metadata": {
        "id": "F5_RsIH2PO0a"
      },
      "source": [
        "!git remote add origin https://github.com/narcisoperez/dvc2.git"
      ],
      "execution_count": null,
      "outputs": []
    },
    {
      "cell_type": "code",
      "metadata": {
        "colab": {
          "base_uri": "https://localhost:8080/"
        },
        "id": "c_pIayvMPQBP",
        "outputId": "5b1bc316-5203-4b5e-94a8-57fbdf58fd40"
      },
      "source": [
        "!git push -u origin main"
      ],
      "execution_count": null,
      "outputs": [
        {
          "output_type": "stream",
          "name": "stdout",
          "text": [
            "fatal: could not read Username for 'https://github.com': No such device or address\n"
          ]
        }
      ]
    },
    {
      "cell_type": "code",
      "metadata": {
        "id": "wOdeb9_vRbJB"
      },
      "source": [
        ""
      ],
      "execution_count": null,
      "outputs": []
    },
    {
      "cell_type": "code",
      "metadata": {
        "colab": {
          "base_uri": "https://localhost:8080/"
        },
        "id": "YQwhGiBfRbTY",
        "outputId": "4263a8c8-7af1-4d84-c9a2-4cbced92290e"
      },
      "source": [
        "!wget https://code.dvc.org/get-started/code.zip"
      ],
      "execution_count": null,
      "outputs": [
        {
          "output_type": "stream",
          "name": "stdout",
          "text": [
            "--2021-10-21 23:53:06--  https://code.dvc.org/get-started/code.zip\n",
            "Resolving code.dvc.org (code.dvc.org)... 104.21.81.205, 172.67.164.76, 2606:4700:3033::ac43:a44c, ...\n",
            "Connecting to code.dvc.org (code.dvc.org)|104.21.81.205|:443... connected.\n",
            "HTTP request sent, awaiting response... 303 See Other\n",
            "Location: https://s3-us-east-2.amazonaws.com/dvc-public/code/get-started/code.zip [following]\n",
            "--2021-10-21 23:53:06--  https://s3-us-east-2.amazonaws.com/dvc-public/code/get-started/code.zip\n",
            "Resolving s3-us-east-2.amazonaws.com (s3-us-east-2.amazonaws.com)... 52.219.98.161\n",
            "Connecting to s3-us-east-2.amazonaws.com (s3-us-east-2.amazonaws.com)|52.219.98.161|:443... connected.\n",
            "HTTP request sent, awaiting response... 200 OK\n",
            "Length: 4634 (4.5K) [application/zip]\n",
            "Saving to: ‘code.zip’\n",
            "\n",
            "code.zip            100%[===================>]   4.53K  --.-KB/s    in 0s      \n",
            "\n",
            "2021-10-21 23:53:06 (119 MB/s) - ‘code.zip’ saved [4634/4634]\n",
            "\n"
          ]
        }
      ]
    },
    {
      "cell_type": "code",
      "metadata": {
        "colab": {
          "base_uri": "https://localhost:8080/"
        },
        "id": "JKJ657NnRikg",
        "outputId": "81067c55-8009-4c45-8f88-fd3734f45705"
      },
      "source": [
        "!unzip code.zip"
      ],
      "execution_count": null,
      "outputs": [
        {
          "output_type": "stream",
          "name": "stdout",
          "text": [
            "Archive:  code.zip\n",
            "  inflating: params.yaml             \n",
            "  inflating: src/evaluate.py         \n",
            "  inflating: src/featurization.py    \n",
            "  inflating: src/prepare.py          \n",
            "  inflating: src/requirements.txt    \n",
            "  inflating: src/train.py            \n",
            "   creating: .github/workflows/\n",
            "  inflating: .github/workflows/cml.yaml  \n"
          ]
        }
      ]
    },
    {
      "cell_type": "code",
      "metadata": {
        "colab": {
          "base_uri": "https://localhost:8080/"
        },
        "id": "Dmy3sJFCRpE_",
        "outputId": "cba1e095-094f-4c50-8d1a-a0e5e1cc2675"
      },
      "source": [
        "!pip install -r src/requirements.txt"
      ],
      "execution_count": null,
      "outputs": [
        {
          "output_type": "stream",
          "name": "stdout",
          "text": [
            "Requirement already satisfied: pandas in /usr/local/lib/python3.7/dist-packages (from -r src/requirements.txt (line 1)) (1.1.5)\n",
            "Collecting pyaml\n",
            "  Downloading pyaml-21.10.1-py2.py3-none-any.whl (24 kB)\n",
            "Requirement already satisfied: scikit-learn in /usr/local/lib/python3.7/dist-packages (from -r src/requirements.txt (line 3)) (0.22.2.post1)\n",
            "Requirement already satisfied: scipy in /usr/local/lib/python3.7/dist-packages (from -r src/requirements.txt (line 4)) (1.4.1)\n",
            "Requirement already satisfied: python-dateutil>=2.7.3 in /usr/local/lib/python3.7/dist-packages (from pandas->-r src/requirements.txt (line 1)) (2.8.2)\n",
            "Requirement already satisfied: numpy>=1.15.4 in /usr/local/lib/python3.7/dist-packages (from pandas->-r src/requirements.txt (line 1)) (1.19.5)\n",
            "Requirement already satisfied: pytz>=2017.2 in /usr/local/lib/python3.7/dist-packages (from pandas->-r src/requirements.txt (line 1)) (2018.9)\n",
            "Requirement already satisfied: six>=1.5 in /usr/local/lib/python3.7/dist-packages (from python-dateutil>=2.7.3->pandas->-r src/requirements.txt (line 1)) (1.15.0)\n",
            "Requirement already satisfied: PyYAML in /usr/local/lib/python3.7/dist-packages (from pyaml->-r src/requirements.txt (line 2)) (3.13)\n",
            "Requirement already satisfied: joblib>=0.11 in /usr/local/lib/python3.7/dist-packages (from scikit-learn->-r src/requirements.txt (line 3)) (1.0.1)\n",
            "Installing collected packages: pyaml\n",
            "Successfully installed pyaml-21.10.1\n"
          ]
        }
      ]
    },
    {
      "cell_type": "code",
      "metadata": {
        "colab": {
          "base_uri": "https://localhost:8080/"
        },
        "id": "_IohOU8WRsR4",
        "outputId": "8a7c8315-eb16-4b94-f7dd-eed61805366a"
      },
      "source": [
        "!dvc run -n prepare \\\n",
        "          -p prepare.seed,prepare.split \\\n",
        "          -d src/prepare.py -d data/data.xml \\\n",
        "          -o data/prepared \\\n",
        "          python src/prepare.py data/data.xml"
      ],
      "execution_count": null,
      "outputs": [
        {
          "output_type": "stream",
          "name": "stdout",
          "text": [
            "\r!\rIf DVC froze, see `hardlink_lock` in <\u001b[36mhttps://man.dvc.org/config#core\u001b[39m>\r                                                                      \rRunning stage 'prepare':\n",
            "> python src/prepare.py data/data.xml\n",
            "Computing file/dir hashes (only done once)          |0.00 [00:00,      ?md5/s]\n",
            "!\u001b[A\n",
            "  0%|          |                                   0.00/? [00:00<?,        ?B/s]\u001b[A\n",
            "                                                                                \u001b[A\n",
            "!\u001b[A\n",
            "  0%|          |                                   0.00/? [00:00<?,        ?B/s]\u001b[A\n",
            "Transferring:   0% 0/3 [00:00<?, ?file/s{'info': ''}]\n",
            "!\u001b[A\n",
            "  0%|          |b786b6e6f80e2b3fcf17827ad18597.dir 0.00/? [00:00<?,        ?B/s]\u001b[A\n",
            "b786b6e6f80e2b3fcf17827ad18597.dir:   0% 0.00/137 [00:00<?, ?B/s{'info': ''}]   \u001b[A\n",
            "Creating 'dvc.yaml'\n",
            "Adding stage 'prepare' in 'dvc.yaml'\n",
            "Generating lock file 'dvc.lock'\n",
            "Updating lock file 'dvc.lock'\n",
            "\n",
            "To track the changes with git, run:\n",
            "\n",
            "\tgit add data/.gitignore dvc.yaml dvc.lock\n",
            "\u001b[0m"
          ]
        }
      ]
    },
    {
      "cell_type": "code",
      "metadata": {
        "colab": {
          "base_uri": "https://localhost:8080/"
        },
        "id": "_clz1gx6R7US",
        "outputId": "848e6e14-7f33-4376-f843-01ffe4c093b8"
      },
      "source": [
        "!dvc run -n featurize \\\n",
        "          -p featurize.max_features,featurize.ngrams \\\n",
        "          -d src/featurization.py -d data/prepared \\\n",
        "          -o data/features \\\n",
        "          python src/featurization.py data/prepared data/features"
      ],
      "execution_count": null,
      "outputs": [
        {
          "output_type": "stream",
          "name": "stdout",
          "text": [
            "\r!\rIf DVC froze, see `hardlink_lock` in <\u001b[36mhttps://man.dvc.org/config#core\u001b[39m>\r                                                                      \rRunning stage 'featurize':\n",
            "> python src/featurization.py data/prepared data/features\n",
            "The input data frame data/prepared/train.tsv size is (20017, 3)\n",
            "tcmalloc: large alloc 1989296128 bytes == 0x564a6ba9c000 @  0x7f48d2f8f001 0x7f48d0b0d54f 0x7f48d0b5db58 0x7f48d0b5dd97 0x7f48d0bf6887 0x564a655ba4b0 0x564a656abe1d 0x564a6562de99 0x564a656289ee 0x564a656286f3 0x564a656f24c2 0x564a656f283d 0x564a656f26e6 0x564a656ca163 0x564a656c9e0c 0x7f48d1d77bf7 0x564a656c9cea\n",
            "tcmalloc: large alloc 1989296128 bytes == 0x564ae23c0000 @  0x7f48d2f8f001 0x7f48d0b0d54f 0x7f48d0b5db58 0x7f48d0b5dd97 0x7f48d0b574a5 0x7f48d0c02a2d 0x564a655ba4b0 0x564a655ba240 0x564a6562e0f3 0x564a656289ee 0x564a656286f3 0x564a656f24c2 0x564a656f283d 0x564a656f26e6 0x564a656ca163 0x564a656c9e0c 0x7f48d1d77bf7 0x564a656c9cea\n",
            "The output matrix data/features/train.pkl size is (20017, 502) and data type is float64\n",
            "The input data frame data/prepared/test.tsv size is (4983, 3)\n",
            "The output matrix data/features/test.pkl size is (4983, 502) and data type is float64\n",
            "Computing file/dir hashes (only done once)          |0.00 [00:00,      ?md5/s]\n",
            "!\u001b[A\n",
            "  0%|          |                                   0.00/? [00:00<?,        ?B/s]\u001b[A\n",
            "                                                                                \u001b[A\n",
            "!\u001b[A\n",
            "  0%|          |                                   0.00/? [00:00<?,        ?B/s]\u001b[A\n",
            "Transferring:   0% 0/3 [00:00<?, ?file/s{'info': ''}]\n",
            "!\u001b[A\n",
            "  0%|          |a1b6b3c807f7ffbb23566ea5f80c62.dir 0.00/? [00:00<?,        ?B/s]\u001b[A\n",
            "a1b6b3c807f7ffbb23566ea5f80c62.dir:   0% 0.00/137 [00:00<?, ?B/s{'info': ''}]   \u001b[A\n",
            "Adding stage 'featurize' in 'dvc.yaml'\n",
            "Updating lock file 'dvc.lock'\n",
            "\n",
            "To track the changes with git, run:\n",
            "\n",
            "\tgit add dvc.yaml data/.gitignore dvc.lock\n",
            "\u001b[0m"
          ]
        }
      ]
    },
    {
      "cell_type": "code",
      "metadata": {
        "colab": {
          "base_uri": "https://localhost:8080/"
        },
        "id": "OVKZeY6nTDPo",
        "outputId": "057ba020-5bb5-4662-e64e-dfb4f8819b19"
      },
      "source": [
        "!dvc run -n train \\\n",
        "          -p train.seed,train.n_est,train.min_split \\\n",
        "          -d src/train.py -d data/features \\\n",
        "          -o model.pkl \\\n",
        "          python src/train.py data/features model.pkl"
      ],
      "execution_count": null,
      "outputs": [
        {
          "output_type": "stream",
          "name": "stdout",
          "text": [
            "\r!\rIf DVC froze, see `hardlink_lock` in <\u001b[36mhttps://man.dvc.org/config#core\u001b[39m>\r                                                                      \rRunning stage 'train':\n",
            "> python src/train.py data/features model.pkl\n",
            "Input matrix size (20017, 502)\n",
            "X matrix size (20017, 500)\n",
            "Y matrix size (20017,)\n",
            "Adding stage 'train' in 'dvc.yaml'\n",
            "Updating lock file 'dvc.lock'\n",
            "\n",
            "To track the changes with git, run:\n",
            "\n",
            "\tgit add dvc.yaml dvc.lock .gitignore\n",
            "\u001b[0m"
          ]
        }
      ]
    },
    {
      "cell_type": "code",
      "metadata": {
        "colab": {
          "base_uri": "https://localhost:8080/"
        },
        "id": "g2IxKTEXTQVd",
        "outputId": "2208aa67-5276-47ce-e335-02411b39d39e"
      },
      "source": [
        "!dvc run -n evaluate \\\n",
        "          -d src/evaluate.py -d model.pkl -d data/features \\\n",
        "          -M scores.json \\\n",
        "          --plots-no-cache prc.json \\\n",
        "          --plots-no-cache roc.json \\\n",
        "          python src/evaluate.py model.pkl \\\n",
        "                 data/features scores.json prc.json roc.json"
      ],
      "execution_count": null,
      "outputs": [
        {
          "output_type": "stream",
          "name": "stdout",
          "text": [
            "Running stage 'evaluate':\n",
            "> python src/evaluate.py model.pkl data/features scores.json prc.json roc.json\n",
            "Adding stage 'evaluate' in 'dvc.yaml'\n",
            "Updating lock file 'dvc.lock'\n",
            "\n",
            "To track the changes with git, run:\n",
            "\n",
            "\tgit add dvc.yaml dvc.lock\n",
            "\u001b[0m"
          ]
        }
      ]
    },
    {
      "cell_type": "code",
      "metadata": {
        "colab": {
          "base_uri": "https://localhost:8080/"
        },
        "id": "RNYjOQQfTfF7",
        "outputId": "6cdc32ff-6fb7-4bff-d9f2-3331a62b97e0"
      },
      "source": [
        "!dvc metrics show"
      ],
      "execution_count": null,
      "outputs": [
        {
          "output_type": "stream",
          "name": "stdout",
          "text": [
            "\r!\rIf DVC froze, see `hardlink_lock` in <\u001b[36mhttps://man.dvc.org/config#core\u001b[39m>\r                                                                      \rPath         avg_prec    roc_auc\n",
            "scores.json  0.52048     0.9032\n",
            "\u001b[0m"
          ]
        }
      ]
    },
    {
      "cell_type": "code",
      "metadata": {
        "colab": {
          "base_uri": "https://localhost:8080/"
        },
        "id": "durSgEkZT6HE",
        "outputId": "84900863-ce75-4387-dd7e-0535c5d4ad29"
      },
      "source": [
        "!dvc metrics show"
      ],
      "execution_count": null,
      "outputs": [
        {
          "output_type": "stream",
          "name": "stdout",
          "text": [
            "\r!\rIf DVC froze, see `hardlink_lock` in <\u001b[36mhttps://man.dvc.org/config#core\u001b[39m>\r                                                                      \rPath         avg_prec    roc_auc\n",
            "scores.json  0.55259     0.91536\n",
            "\u001b[0m"
          ]
        }
      ]
    },
    {
      "cell_type": "code",
      "metadata": {
        "colab": {
          "base_uri": "https://localhost:8080/"
        },
        "id": "Mt9dn4_HTtdv",
        "outputId": "d977dc45-11b7-46a1-b8d4-4d0aa71aa0c9"
      },
      "source": [
        "!dvc repro"
      ],
      "execution_count": null,
      "outputs": [
        {
          "output_type": "stream",
          "name": "stdout",
          "text": [
            "\r!\rIf DVC froze, see `hardlink_lock` in <\u001b[36mhttps://man.dvc.org/config#core\u001b[39m>\r                                                                      \r'data/data.xml.dvc' didn't change, skipping\n",
            "Stage 'prepare' didn't change, skipping\n",
            "Running stage 'featurize':\n",
            "> python src/featurization.py data/prepared data/features\n",
            "The input data frame data/prepared/train.tsv size is (20017, 3)\n",
            "tcmalloc: large alloc 1989296128 bytes == 0x5636463d6000 @  0x7fc3b7253001 0x7fc3b4dd154f 0x7fc3b4e21b58 0x7fc3b4e21d97 0x7fc3b4eba887 0x56363fbfb4b0 0x56363fcece1d 0x56363fc6ee99 0x56363fc699ee 0x56363fc696f3 0x56363fd334c2 0x56363fd3383d 0x56363fd336e6 0x56363fd0b163 0x56363fd0ae0c 0x7fc3b603bbf7 0x56363fd0acea\n",
            "tcmalloc: large alloc 1989296128 bytes == 0x5636bccfa000 @  0x7fc3b7253001 0x7fc3b4dd154f 0x7fc3b4e21b58 0x7fc3b4e21d97 0x7fc3b4e1b4a5 0x7fc3b4ec6a2d 0x56363fbfb4b0 0x56363fbfb240 0x56363fc6f0f3 0x56363fc699ee 0x56363fc696f3 0x56363fd334c2 0x56363fd3383d 0x56363fd336e6 0x56363fd0b163 0x56363fd0ae0c 0x7fc3b603bbf7 0x56363fd0acea\n",
            "The output matrix data/features/train.pkl size is (20017, 1502) and data type is float64\n",
            "The input data frame data/prepared/test.tsv size is (4983, 3)\n",
            "The output matrix data/features/test.pkl size is (4983, 1502) and data type is float64\n",
            "Computing file/dir hashes (only done once)          |0.00 [00:00,      ?md5/s]\n",
            "!\u001b[A\n",
            "  0%|          |                                   0.00/? [00:00<?,        ?B/s]\u001b[A\n",
            "                                                                                \u001b[A\n",
            "!\u001b[A\n",
            "  0%|          |                                   0.00/? [00:00<?,        ?B/s]\u001b[A\n",
            "Transferring:   0% 0/3 [00:00<?, ?file/s{'info': ''}]\n",
            "!\u001b[A\n",
            "  0%|          |ec451f622c20f35fb9ebb988539bc2.dir 0.00/? [00:00<?,        ?B/s]\u001b[A\n",
            "ec451f622c20f35fb9ebb988539bc2.dir:   0% 0.00/137 [00:00<?, ?B/s{'info': ''}]   \u001b[A\n",
            "Updating lock file 'dvc.lock'\n",
            "\n",
            "Running stage 'train':\n",
            "> python src/train.py data/features model.pkl\n",
            "Input matrix size (20017, 1502)\n",
            "X matrix size (20017, 1500)\n",
            "Y matrix size (20017,)\n",
            "Updating lock file 'dvc.lock'\n",
            "\n",
            "Running stage 'evaluate':\n",
            "> python src/evaluate.py model.pkl data/features scores.json prc.json roc.json\n",
            "Updating lock file 'dvc.lock'\n",
            "\n",
            "To track the changes with git, run:\n",
            "\n",
            "\tgit add dvc.lock\n",
            "Use `dvc push` to send your updates to remote storage.\n",
            "\u001b[0m"
          ]
        }
      ]
    }
  ]
}